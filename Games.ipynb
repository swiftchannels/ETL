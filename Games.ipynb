{
 "cells": [
  {
   "cell_type": "code",
   "execution_count": 71,
   "metadata": {},
   "outputs": [],
   "source": [
    "import numpy as np\n",
    "import pandas as pd\n",
    "from sqlalchemy import create_engine"
   ]
  },
  {
   "cell_type": "code",
   "execution_count": 72,
   "metadata": {},
   "outputs": [],
   "source": [
    "# EXTRACT DATA\n",
    "\n",
    "publisher=pd.read_csv(\"steam_games.csv\")\n",
    "\n",
    "Hours_data=pd.read_csv(\"steam-200k.csv\", header=None)\n",
    "\n",
    "Game_features =pd.read_csv(\"games-features.csv\")\n"
   ]
  },
  {
   "cell_type": "code",
   "execution_count": 73,
   "metadata": {},
   "outputs": [
    {
     "name": "stderr",
     "output_type": "stream",
     "text": [
      "/Users/z/anaconda3/lib/python3.6/site-packages/ipykernel_launcher.py:3: SettingWithCopyWarning: \n",
      "A value is trying to be set on a copy of a slice from a DataFrame\n",
      "\n",
      "See the caveats in the documentation: http://pandas.pydata.org/pandas-docs/stable/indexing.html#indexing-view-versus-copy\n",
      "  This is separate from the ipykernel package so we can avoid doing imports until\n"
     ]
    }
   ],
   "source": [
    "# extracting data for publishers\n",
    "# TRANSFORM DATASETS\n",
    "Publisher_data = publisher[['publisher','name', 'developer', 'popular_tags', 'minimum_requirements', 'original_price']]\n",
    "Publisher_data.dropna(how='any',inplace=True)\n",
    "#remaming columns\n",
    "Publisher_data = Publisher_data.rename(columns={'name':'gamename', 'developer':'developers','publisher':'publisher', 'popular_tags':'popular_tags','minimum_requirements':'minreqs','original_price':'price'})\n",
    "Publisher_data = Publisher_data[['gamename', 'developers', 'publisher', 'popular_tags', 'minreqs', 'price']]\n"
   ]
  },
  {
   "cell_type": "code",
   "execution_count": 74,
   "metadata": {},
   "outputs": [
    {
     "data": {
      "text/html": [
       "<div>\n",
       "<style scoped>\n",
       "    .dataframe tbody tr th:only-of-type {\n",
       "        vertical-align: middle;\n",
       "    }\n",
       "\n",
       "    .dataframe tbody tr th {\n",
       "        vertical-align: top;\n",
       "    }\n",
       "\n",
       "    .dataframe thead th {\n",
       "        text-align: right;\n",
       "    }\n",
       "</style>\n",
       "<table border=\"1\" class=\"dataframe\">\n",
       "  <thead>\n",
       "    <tr style=\"text-align: right;\">\n",
       "      <th></th>\n",
       "      <th>gameid</th>\n",
       "      <th>gamename</th>\n",
       "      <th>gamehours</th>\n",
       "    </tr>\n",
       "  </thead>\n",
       "  <tbody>\n",
       "    <tr>\n",
       "      <th>0</th>\n",
       "      <td>0</td>\n",
       "      <td>Dota 2</td>\n",
       "      <td>4841</td>\n",
       "    </tr>\n",
       "    <tr>\n",
       "      <th>1</th>\n",
       "      <td>1</td>\n",
       "      <td>Team Fortress 2</td>\n",
       "      <td>2323</td>\n",
       "    </tr>\n",
       "    <tr>\n",
       "      <th>2</th>\n",
       "      <td>2</td>\n",
       "      <td>Counter-Strike Global Offensive</td>\n",
       "      <td>1377</td>\n",
       "    </tr>\n",
       "    <tr>\n",
       "      <th>3</th>\n",
       "      <td>3</td>\n",
       "      <td>Unturned</td>\n",
       "      <td>1069</td>\n",
       "    </tr>\n",
       "    <tr>\n",
       "      <th>4</th>\n",
       "      <td>4</td>\n",
       "      <td>Left 4 Dead 2</td>\n",
       "      <td>801</td>\n",
       "    </tr>\n",
       "  </tbody>\n",
       "</table>\n",
       "</div>"
      ],
      "text/plain": [
       "   gameid                         gamename  gamehours\n",
       "0       0                           Dota 2       4841\n",
       "1       1                  Team Fortress 2       2323\n",
       "2       2  Counter-Strike Global Offensive       1377\n",
       "3       3                         Unturned       1069\n",
       "4       4                    Left 4 Dead 2        801"
      ]
     },
     "execution_count": 74,
     "metadata": {},
     "output_type": "execute_result"
    }
   ],
   "source": [
    "# TRANSFORM DATASETS\n",
    "# Getting data for the number of hours each games are played\n",
    "Game_number_hour = Hours_data.rename(columns={0:'userid',1:'gamename', 2:'subscriptiontype', 3:'hours'})\n",
    "Game_number_hour = Game_number_hour[['userid','gamename','subscriptiontype','hours']]\n",
    "Game_number_hour = Game_number_hour.loc[Game_number_hour['subscriptiontype']== 'play']\n",
    "Game_number_hour = Game_number_hour.groupby('gamename').count()['hours'].sort_values(ascending=False)\n",
    "Game_number_hour = pd.DataFrame(Game_number_hour)\n",
    "Game_number_hour = Game_number_hour.reset_index()\n",
    "Game_number_hour = Game_number_hour.reset_index()\n",
    "Game_hours_df =Game_number_hour.rename(columns={\"index\": \"gameid\", \"gamename\": \"gamename\", \"hours\": \"gamehours\"})\n",
    "Game_hours_df.head(5)"
   ]
  },
  {
   "cell_type": "code",
   "execution_count": 75,
   "metadata": {},
   "outputs": [],
   "source": [
    "# TRANSFORM DATASETS\n",
    "# getting features , game requirement and recommendations\n",
    "Game_feature = Game_features[['ResponseName','Metacritic','RecommendationCount','IsFree','PCReqsHaveMin','PriceInitial']]\n",
    "Game_feature_df = Game_feature.rename(columns={'ResponseName':'gamename','Metacritic':'metacritic','IsFree':'isfree','RecommendationCount':'reccount','PCReqsHaveMin':'pcrecs','PriceInitial':'price'})\n",
    "Game_features_recom = pd.merge(Game_hours_df,Game_feature_df, how='inner',on='gamename')\n",
    "Game_features_recom= Game_features_recom[['gameid','gamename','metacritic','reccount','isfree','pcrecs','price']]\n"
   ]
  },
  {
   "cell_type": "code",
   "execution_count": 76,
   "metadata": {},
   "outputs": [],
   "source": [
    "# LOADING DATA INTO SQL \n",
    "\n",
    "# CONNECTION TO MYSQL\n",
    "\n",
    "rds_connection_string = \"postgres:Olajumoke1!@127.0.0.1:5432/ETL_Project\"\n",
    "engine = create_engine(f'postgresql://{rds_connection_string}')"
   ]
  },
  {
   "cell_type": "code",
   "execution_count": 77,
   "metadata": {},
   "outputs": [
    {
     "data": {
      "text/plain": [
       "['games_hours', 'game_recommendation', 'publisher_data']"
      ]
     },
     "execution_count": 77,
     "metadata": {},
     "output_type": "execute_result"
    }
   ],
   "source": [
    "engine.table_names()"
   ]
  },
  {
   "cell_type": "code",
   "execution_count": 78,
   "metadata": {},
   "outputs": [],
   "source": [
    "Game_features_recom.to_sql(name='game_recommendation', con=engine, if_exists='append', index=False)\n",
    "Game_hours_df.to_sql(name='games_hours', con=engine, if_exists='append', index=False)\n",
    "Publisher_data.to_sql(name='publisher_data', con=engine, if_exists='append', index=False)"
   ]
  },
  {
   "cell_type": "code",
   "execution_count": 79,
   "metadata": {},
   "outputs": [
    {
     "data": {
      "text/html": [
       "<div>\n",
       "<style scoped>\n",
       "    .dataframe tbody tr th:only-of-type {\n",
       "        vertical-align: middle;\n",
       "    }\n",
       "\n",
       "    .dataframe tbody tr th {\n",
       "        vertical-align: top;\n",
       "    }\n",
       "\n",
       "    .dataframe thead th {\n",
       "        text-align: right;\n",
       "    }\n",
       "</style>\n",
       "<table border=\"1\" class=\"dataframe\">\n",
       "  <thead>\n",
       "    <tr style=\"text-align: right;\">\n",
       "      <th></th>\n",
       "      <th>gameid</th>\n",
       "      <th>gamename</th>\n",
       "      <th>gamehours</th>\n",
       "    </tr>\n",
       "  </thead>\n",
       "  <tbody>\n",
       "    <tr>\n",
       "      <th>0</th>\n",
       "      <td>0</td>\n",
       "      <td>Dota 2</td>\n",
       "      <td>4841</td>\n",
       "    </tr>\n",
       "    <tr>\n",
       "      <th>1</th>\n",
       "      <td>1</td>\n",
       "      <td>Team Fortress 2</td>\n",
       "      <td>2323</td>\n",
       "    </tr>\n",
       "    <tr>\n",
       "      <th>2</th>\n",
       "      <td>2</td>\n",
       "      <td>Counter-Strike Global Offensive</td>\n",
       "      <td>1377</td>\n",
       "    </tr>\n",
       "    <tr>\n",
       "      <th>3</th>\n",
       "      <td>3</td>\n",
       "      <td>Unturned</td>\n",
       "      <td>1069</td>\n",
       "    </tr>\n",
       "    <tr>\n",
       "      <th>4</th>\n",
       "      <td>4</td>\n",
       "      <td>Left 4 Dead 2</td>\n",
       "      <td>801</td>\n",
       "    </tr>\n",
       "  </tbody>\n",
       "</table>\n",
       "</div>"
      ],
      "text/plain": [
       "   gameid                         gamename  gamehours\n",
       "0       0                           Dota 2       4841\n",
       "1       1                  Team Fortress 2       2323\n",
       "2       2  Counter-Strike Global Offensive       1377\n",
       "3       3                         Unturned       1069\n",
       "4       4                    Left 4 Dead 2        801"
      ]
     },
     "execution_count": 79,
     "metadata": {},
     "output_type": "execute_result"
    }
   ],
   "source": [
    "# TEST TO SEE IF CONNECTION IS WORKING\n",
    "\n",
    "pd.read_sql_query('select * from games_hours', con=engine).head()"
   ]
  },
  {
   "cell_type": "code",
   "execution_count": null,
   "metadata": {},
   "outputs": [],
   "source": []
  }
 ],
 "metadata": {
  "kernelspec": {
   "display_name": "Python 3",
   "language": "python",
   "name": "python3"
  },
  "language_info": {
   "codemirror_mode": {
    "name": "ipython",
    "version": 3
   },
   "file_extension": ".py",
   "mimetype": "text/x-python",
   "name": "python",
   "nbconvert_exporter": "python",
   "pygments_lexer": "ipython3",
   "version": "3.6.5"
  }
 },
 "nbformat": 4,
 "nbformat_minor": 2
}
